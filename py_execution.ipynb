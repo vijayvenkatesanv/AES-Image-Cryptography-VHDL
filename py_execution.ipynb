{
 "cells": [
  {
   "cell_type": "code",
   "execution_count": 21,
   "id": "c4d2f675-00dc-4301-8ec5-6e394ad7c1e6",
   "metadata": {},
   "outputs": [
    {
     "name": "stdout",
     "output_type": "stream",
     "text": [
      "\n",
      "🧾 Original 256-bit Image (256 bits):\n",
      "1111110111110010001010100000101010110011111110100100011110111110110111010001110000101011010111110110001100110000001001100110000000011001010100001100100101011110111001010110001000111010111001011011010011011110001101010101001101010100101100001100111111111011\n",
      "\n",
      "🧾 Encrypted 256-bit Image (256 bits):\n",
      "1111110111010010001010100000101010110011111111100100011110111110110111010001110000101011010111110110001100110000001001100111000000011001010100001100101101011110111001010110001000111010111001011011010001011110001101010101001101010110101100001100111111111011\n",
      "\n",
      "📷 Visual Difference (⬛=0 ⬜=1 🟥=Changed Bit):\n",
      "⬜⬜⬜⬜⬜⬜⬛⬜⬜⬜🟥⬜⬛⬛⬜⬛\n",
      "⬛⬛⬜⬛⬜⬛⬜⬛⬛⬛⬛⬛⬜⬛⬜⬛\n",
      "⬜⬛⬜⬜⬛⬛⬜⬜⬜⬜⬜⬜⬜🟥⬜⬛\n",
      "⬛⬜⬛⬛⬛⬜⬜⬜⬜⬛⬜⬜⬜⬜⬜⬛\n",
      "⬜⬜⬛⬜⬜⬜⬛⬜⬛⬛⬛⬜⬜⬜⬛⬛\n",
      "⬛⬛⬜⬛⬜⬛⬜⬜⬛⬜⬛⬜⬜⬜⬜⬜\n",
      "⬛⬜⬜⬛⬛⬛⬜⬜⬛⬛⬜⬜⬛⬛⬛⬛\n",
      "⬛⬛⬜⬛⬛⬜⬜⬛⬛⬜⬜🟥⬛⬛⬛⬛\n",
      "⬛⬛⬛⬜⬜⬛⬛⬜⬛⬜⬛⬜⬛⬛⬛⬛\n",
      "⬜⬜⬛⬛⬜⬛🟥⬜⬛⬜⬛⬜⬜⬜⬜⬛\n",
      "⬜⬜⬜⬛⬛⬜⬛⬜⬛⬜⬜⬛⬛⬛⬜⬛\n",
      "⬛⬛⬜⬜⬜⬛⬜⬛⬜⬜⬜⬛⬛⬜⬛⬜\n",
      "⬜⬛⬜⬜⬛⬜⬛⬛🟥⬜⬛⬜⬜⬜⬜⬛\n",
      "⬛⬛⬜⬜⬛⬜⬛⬜⬛⬜⬛⬜⬛⬛⬜⬜\n",
      "⬛⬜⬛⬜⬛⬜🟥⬛⬜⬛⬜⬜⬛⬛⬛⬛\n",
      "⬜⬜⬛⬛⬜⬜⬜⬜⬜⬜⬜⬜⬜⬛⬜⬜\n",
      "\n",
      "📝 Message: 10000101 (Decimal: 133 )\n",
      "🔑 Key    : 11001000 (Decimal: 200 )\n",
      "📌 Bit Positions Used: [10, 45, 73, 99, 123, 150, 200, 230]\n",
      "\n",
      "🔒 Encrypted Bits  : 01001101\n",
      "🔓 Retrieved Binary: 10000101\n",
      "🔓 Retrieved Decimal: 133\n"
     ]
    }
   ],
   "source": [
    "import random\n",
    "\n",
    "def int_to_bin8(x):\n",
    "    return f'{x:08b}'\n",
    "\n",
    "def set_bit(byte_arr, bit_pos, bit_val):\n",
    "    byte_index = bit_pos // 8\n",
    "    bit_index = 7 - (bit_pos % 8)\n",
    "    if bit_val == 1:\n",
    "        byte_arr[byte_index] |= (1 << bit_index)\n",
    "    else:\n",
    "        byte_arr[byte_index] &= ~(1 << bit_index)\n",
    "\n",
    "def get_bit_array(byte_arr):\n",
    "    return [((byte >> (7 - i)) & 1) for byte in byte_arr for i in range(8)]\n",
    "\n",
    "def print_binary_string(bit_array, label):\n",
    "    bit_str = ''.join(str(bit) for bit in bit_array)\n",
    "    print(f\"\\n🧾 {label} (256 bits):\\n{bit_str}\")\n",
    "\n",
    "def print_diff_image(before, after, positions, label):\n",
    "    print(f\"\\n📷 {label} (⬛=0 ⬜=1 🟥=Changed Bit):\")\n",
    "    for i in range(0, 256, 16):\n",
    "        row = \"\"\n",
    "        for j in range(16):\n",
    "            index = i + j\n",
    "            if before[index] != after[index] and index in positions:\n",
    "                row += '🟥'\n",
    "            elif after[index] == 1:\n",
    "                row += '⬜'\n",
    "            else:\n",
    "                row += '⬛'\n",
    "        print(row)\n",
    "\n",
    "# === Step 1: Generate 256-bit random image ===\n",
    "original_image = bytearray([random.randint(0, 255) for _ in range(32)])\n",
    "image = original_image[:]  # Copy for modification\n",
    "\n",
    "# === Step 2: Generate 8-bit message and key (ensuring they are not the same) ===\n",
    "while True:\n",
    "    message = random.randint(0, 255)\n",
    "    key = random.randint(0, 255)\n",
    "    if message != key:\n",
    "        break\n",
    "\n",
    "message_bits = [int(b) for b in int_to_bin8(message)]\n",
    "key_bits = [int(b) for b in int_to_bin8(key)]\n",
    "\n",
    "positions = [10, 45, 73, 99, 123, 150, 200, 230]\n",
    "\n",
    "#Encrypt message with key using XOR\n",
    "encrypted_message_bits = [message_bits[i] ^ key_bits[i] for i in range(8)]\n",
    "\n",
    "# Embedding\n",
    "for i in range(8):\n",
    "    set_bit(image, positions[i], encrypted_message_bits[i])\n",
    "\n",
    "# Decrypt\n",
    "retrieved_bits = []\n",
    "for i in range(8):\n",
    "    byte_index = positions[i] // 8\n",
    "    bit_index = 7 - (positions[i] % 8)\n",
    "    bit = (image[byte_index] >> bit_index) & 1\n",
    "    retrieved_bits.append(bit)\n",
    "\n",
    "decrypted_bits = [retrieved_bits[i] ^ key_bits[i] for i in range(8)]\n",
    "retrieved_binary = ''.join(str(b) for b in decrypted_bits)\n",
    "retrieved_decimal = int(retrieved_binary, 2)\n",
    "\n",
    "# Display\n",
    "original_bits = get_bit_array(original_image)\n",
    "encrypted_bits = get_bit_array(image)\n",
    "\n",
    "print_binary_string(original_bits, \"Original 256-bit Image\")\n",
    "print_binary_string(encrypted_bits, \"Encrypted 256-bit Image\")\n",
    "print_diff_image(original_bits, encrypted_bits, positions, \"Visual Difference\")\n",
    "\n",
    "print(\"\\n📝 Message:\", int_to_bin8(message), \"(Decimal:\", message, \")\")\n",
    "print(\"🔑 Key    :\", int_to_bin8(key), \"(Decimal:\", key, \")\")\n",
    "print(\"📌 Bit Positions Used:\", positions)\n",
    "print(\"\\n🔒 Encrypted Bits  :\", ''.join(str(b) for b in encrypted_message_bits))\n",
    "print(\"🔓 Retrieved Binary:\", retrieved_binary)\n",
    "print(\"🔓 Retrieved Decimal:\", retrieved_decimal)\n"
   ]
  },
  {
   "cell_type": "code",
   "execution_count": 5,
   "id": "14e7bb74-29be-4023-974b-a6cab848e408",
   "metadata": {},
   "outputs": [
    {
     "data": {
      "image/png": "[encoded data removed]",
      "text/plain": [
       "<Figure size 640x480 with 1 Axes>"
      ]
     },
     "metadata": {},
     "output_type": "display_data"
    }
   ],
   "source": [
    "import matplotlib.pyplot as plt\n",
    "import numpy as np\n",
    "\n",
    "# Your 256-bit binary image\n",
    "binary_image = (\n",
    "    \"1111110111110010001010100000101010110011111110100100011110111110\"\n",
    "    \"1101110100011100001010110101111101100011001100000010011001100000\"\n",
    "    \"0001100101010000110010010101111011100101011000100011101011100101\"\n",
    "    \"1011010011011110001101010101001101010100101100001100111111111011\"\n",
    ")\n",
    "\n",
    "# Convert to 16x16 NumPy array\n",
    "bit_array = np.array([int(b) for b in binary_image]).reshape((16, 16))\n",
    "\n",
    "plt.imshow(bit_array, cmap='gray', vmin=0, vmax=1)\n",
    "plt.title(\"256-bit Binary Image (1 = White, 0 = Black)\")\n",
    "plt.axis('off')\n",
    "plt.show()\n"
   ]
  },
  {
   "cell_type": "code",
   "execution_count": 7,
   "id": "ffb59e37-8c07-4a8b-8235-d2b4dcf179b3",
   "metadata": {},
   "outputs": [
    {
     "data": {
      "image/png": "[encoded data removed]",
      "text/plain": [
       "<Figure size 640x480 with 1 Axes>"
      ]
     },
     "metadata": {},
     "output_type": "display_data"
    }
   ],
   "source": [
    "import matplotlib.pyplot as plt\n",
    "import numpy as np\n",
    "\n",
    "binary_image = (\n",
    "    \"1111110111010010001010100000101010110011111111100100011110111110\"\n",
    "    \"1101110100011100001010110101111101100011001100000010011001110000\"\n",
    "    \"0001100101010000110010110101111011100101011000100011101011100101\"\n",
    "    \"1011010001011110001101010101001101010110101100001100111111111011\"\n",
    ")\n",
    "\n",
    "# Convert to 16x16 NumPy array\n",
    "bit_array = np.array([int(b) for b in binary_image]).reshape((16, 16))\n",
    "\n",
    "plt.imshow(bit_array, cmap='gray', vmin=0, vmax=1)\n",
    "plt.title(\"256-bit Binary Image (1 = White, 0 = Black)\")\n",
    "plt.axis('off')\n",
    "plt.show()\n"
   ]
  },
  {
   "cell_type": "code",
   "execution_count": null,
   "id": "c1faa1f3-2629-4b0d-a529-5a34d4d5fd4f",
   "metadata": {},
   "outputs": [],
   "source": []
  },
  {
   "cell_type": "code",
   "execution_count": null,
   "id": "e7d20025-f056-409c-9c15-661cfede8079",
   "metadata": {},
   "outputs": [],
   "source": []
  }
 ],
 "metadata": {
  "kernelspec": {
   "display_name": "Python [conda env:base] *",
   "language": "python",
   "name": "conda-base-py"
  },
  "language_info": {
   "codemirror_mode": {
    "name": "ipython",
    "version": 3
   },
   "file_extension": ".py",
   "mimetype": "text/x-python",
   "name": "python",
   "nbconvert_exporter": "python",
   "pygments_lexer": "ipython3",
   "version": "3.12.3"
  }
 },
 "nbformat": 4,
 "nbformat_minor": 5
}
